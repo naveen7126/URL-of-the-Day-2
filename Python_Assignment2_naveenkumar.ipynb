{
  "nbformat": 4,
  "nbformat_minor": 0,
  "metadata": {
    "colab": {
      "name": "Python_Assignment2_naveenkumar.ipynb",
      "provenance": [],
      "history_visible": true,
      "authorship_tag": "ABX9TyN6aTuQf/33fn9xDp/9fuXX",
      "include_colab_link": true
    },
    "kernelspec": {
      "name": "python3",
      "display_name": "Python 3"
    }
  },
  "cells": [
    {
      "cell_type": "markdown",
      "metadata": {
        "id": "view-in-github",
        "colab_type": "text"
      },
      "source": [
        "<a href=\"https://colab.research.google.com/github/naveen7126/URL-of-the-Day-2/blob/main/Python_Assignment2_naveenkumar.ipynb\" target=\"_parent\"><img src=\"https://colab.research.google.com/assets/colab-badge.svg\" alt=\"Open In Colab\"/></a>"
      ]
    },
    {
      "cell_type": "code",
      "metadata": {
        "id": "MM660M4jGwX1"
      },
      "source": [
        "# Program to remove empty List from List \r\n",
        "# using filter() \r\n",
        "  \r\n",
        "# Initializing list  \r\n",
        "test_list = [5, 6, [], 3, [], [], 9] \r\n",
        "  \r\n",
        "# printing original list  \r\n",
        "print(\"The original list is : \" + str(test_list)) \r\n",
        "  \r\n",
        "# Remove empty List from List \r\n",
        "# using filter \r\n",
        "res = list(filter(None, test_list)) \r\n",
        "  \r\n",
        "# printing result  \r\n",
        "print (\"List after empty list removal : \" + str(res)) "
      ],
      "execution_count": null,
      "outputs": []
    },
    {
      "cell_type": "code",
      "metadata": {
        "id": "H82-bW9MHFpF"
      },
      "source": [
        "# Program to remove all duplicates words from a given sentence\r\n",
        "s = \"Python is great and Java is also great\"\r\n",
        "l = s.split() \r\n",
        "k = [] \r\n",
        "for i in l: \r\n",
        "\r\n",
        "\t# If condition is used to store unique string \r\n",
        "\t# in another list 'k' \r\n",
        "\tif (s.count(i)>1 and (i not in k)or s.count(i)==1): \r\n",
        "\t\tk.append(i) \r\n",
        "print(' '.join(k))"
      ],
      "execution_count": null,
      "outputs": []
    },
    {
      "cell_type": "code",
      "metadata": {
        "colab": {
          "base_uri": "https://localhost:8080/"
        },
        "id": "naAhGXCLIDv5",
        "outputId": "500e539e-b73c-475f-b1b0-40628cab3cec"
      },
      "source": [
        "# Python program to find all occurrences of a character in the given string\r\n",
        "\r\n",
        "# initializing string \r\n",
        "test_str = \"NaveenKumar\"\r\n",
        "\r\n",
        "# using naive method to get count \r\n",
        "# counting e \r\n",
        "count = 0\r\n",
        "\r\n",
        "for i in test_str: \r\n",
        "\tif i == 'e': \r\n",
        "\t\tcount = count + 1\r\n",
        "\r\n",
        "# printing result \r\n",
        "print (\"Count of e in NaveenKumar is : \"\r\n",
        "\t\t\t\t\t\t\t+ str(count)) "
      ],
      "execution_count": 21,
      "outputs": [
        {
          "output_type": "stream",
          "text": [
            "Count of e in NaveenKumar is : 2\n"
          ],
          "name": "stdout"
        }
      ]
    }
  ]
}